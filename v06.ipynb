{
 "cells": [
  {
   "cell_type": "code",
   "execution_count": null,
   "metadata": {},
   "outputs": [],
   "source": [
    "import nltk\n",
    "nltk.download(\"all\")"
   ]
  },
  {
   "cell_type": "markdown",
   "metadata": {},
   "source": [
    "# V06: Izgradnja označavatelja"
   ]
  },
  {
   "cell_type": "code",
   "execution_count": 14,
   "metadata": {},
   "outputs": [],
   "source": [
    "import nltk\n",
    "import random\n",
    "\n",
    "# Definirajmo recenice nad kojima cemo trenirati i testirati modele\n",
    "from nltk.corpus import brown\n",
    "\n",
    "brown_sents = brown.sents(categories = \"news\")\n",
    "\n",
    "#moramo ga konvertirati u listu\n",
    "brown_tagged_sents = list(brown.tagged_sents(categories = \"news\", tagset = \"universal\"))\n",
    "\n",
    "#podjela\n",
    "size = int(0.9 * len(brown_tagged_sents))\n",
    "random.shuffle(brown_tagged_sents)\n",
    "train_sents = brown_tagged_sents[:size]\n",
    "test_sents = brown_tagged_sents[size:]\n",
    "\n",
    "#testna neoznačena rečenica\n",
    "test_sent = brown_sents[5]"
   ]
  },
  {
   "cell_type": "code",
   "execution_count": 24,
   "metadata": {},
   "outputs": [
    {
     "name": "stdout",
     "output_type": "stream",
     "text": [
      "Preciznost: 0.3919931695285077\n"
     ]
    }
   ],
   "source": [
    "#regex oznacavatelj\n",
    "patterns = [\n",
    "    (r\".*ing$\", \"VERB\"), #glagoli na ing\n",
    "    (r\".*ed$\", \"VERB\"), #simple past\n",
    "    (r\".*e+s$\", \"VERB\"), #3rd person present simple\n",
    "    (r\".*'s$\", \"NOUN\"), #Posvojna imenica\n",
    "    (r\"\\d+\", \"NUM\"), #broj\n",
    "    (r\"\\.\", \".\"), #tocka je tocka :)\n",
    "    (r\".*\", \"NOUN\"), #default, ako ne znas sta je, imenica je\n",
    "]\n",
    "\n",
    "#regex tagger\n",
    "regexp_tagger = nltk.RegexpTagger(patterns)\n",
    "\n",
    "#test\n",
    "tagged_sent = regexp_tagger.tag(test_sent)\n",
    "\n",
    "for token, tag in tagged_sent:\n",
    "    print(token, tag)\n",
    "\n",
    "#provjerimo preciznost\n",
    "print(f\"Preciznost: {regexp_tagger.accuracy(test_sents)}\")"
   ]
  },
  {
   "cell_type": "markdown",
   "metadata": {},
   "source": [
    "## N-gramski HMM označavatelji"
   ]
  },
  {
   "cell_type": "code",
   "execution_count": 40,
   "metadata": {},
   "outputs": [
    {
     "name": "stdout",
     "output_type": "stream",
     "text": [
      "Preciznost: 0.9403282421022673\n"
     ]
    }
   ],
   "source": [
    "# unigram označavatelj\n",
    "unigram_tagger = nltk.UnigramTagger(train_sents, backoff=regexp_tagger)\n",
    "\n",
    "#testiranje\n",
    "tagged_sent = unigram_tagger.tag(test_sent)\n",
    "\n",
    "#for token, tag in tagged_sent:\n",
    "#    print(token, tag)\n",
    "\n",
    "print(f\"Preciznost: {unigram_tagger.accuracy(test_sents)}\")"
   ]
  },
  {
   "cell_type": "code",
   "execution_count": 45,
   "metadata": {},
   "outputs": [
    {
     "name": "stdout",
     "output_type": "stream",
     "text": [
      "     |              C     N     P     V |\n",
      "     |     A  A  A  O  D  O  N  R  P  E |\n",
      "     |     D  D  D  N  E  U  U  O  R  R |\n",
      "     |  .  J  P  V  J  T  N  M  N  T  B |\n",
      "-----+----------------------------------+\n",
      "   . |<38> .  .  .  .  .  .  .  .  .  . |\n",
      " ADJ |  .<18> .  .  .  .  1  .  .  .  . |\n",
      " ADP |  .  .<29> .  .  .  .  .  .  2  1 |\n",
      " ADV |  .  1  . <5> .  .  .  .  .  .  . |\n",
      "CONJ |  .  .  .  .<10> .  .  .  .  .  . |\n",
      " DET |  .  .  .  .  .<39> .  .  .  .  . |\n",
      "NOUN |  .  .  .  .  .  .<81> .  .  .  . |\n",
      " NUM |  .  .  .  .  .  .  . <1> .  .  . |\n",
      "PRON |  .  .  .  .  .  .  .  . <6> .  . |\n",
      " PRT |  .  .  .  .  .  .  .  .  . <3> . |\n",
      "VERB |  .  .  .  .  .  .  1  .  .  .<48>|\n",
      "-----+----------------------------------+\n",
      "(row = reference; col = test)\n",
      "\n"
     ]
    }
   ],
   "source": [
    "# matrica zbunjenosti\n",
    "# predvidjene oznake\n",
    "test_tags = [tag for sent in brown.sents(categories = \"news\")[:10] for (word, tag) in unigram_tagger.tag(sent)]\n",
    "\n",
    "#prave oznake\n",
    "gold_tags = [tag for sent in brown.tagged_sents(categories = \"news\", tagset=\"universal\")[:10] for (word, tag) in sent]\n",
    "\n",
    "#Confusion matrix\n",
    "cm = nltk.ConfusionMatrix(gold_tags, test_tags)\n",
    "\n",
    "print(cm)"
   ]
  },
  {
   "cell_type": "markdown",
   "metadata": {},
   "source": [
    "## Izgradnja bigramskog modela"
   ]
  },
  {
   "cell_type": "code",
   "execution_count": null,
   "metadata": {},
   "outputs": [],
   "source": [
    "bigram_tagger = nltk.BigramTagger(train_sents)\n",
    "\n",
    "#oznaci testni primjer\n",
    "tagged_sent = bigram_tagger.tag(test_sent)\n",
    "\n",
    "for token, tag in tagged_sent:\n",
    "    print(token, tag)\n",
    "\n",
    "print(f\"Preciznost: {bigram_tagger.accuracy(test_sents)}\")"
   ]
  },
  {
   "cell_type": "code",
   "execution_count": 49,
   "metadata": {},
   "outputs": [
    {
     "name": "stdout",
     "output_type": "stream",
     "text": [
      "It PRON\n",
      "recommended VERB\n",
      "that ADP\n",
      "Fulton NOUN\n",
      "legislators NOUN\n",
      "act VERB\n",
      "`` .\n",
      "to PRT\n",
      "have VERB\n",
      "these DET\n",
      "laws NOUN\n",
      "studied VERB\n",
      "and CONJ\n",
      "revised VERB\n",
      "to PRT\n",
      "the DET\n",
      "end None\n",
      "of None\n",
      "modernizing None\n",
      "and None\n",
      "improving None\n",
      "them None\n",
      "'' None\n",
      ". None\n",
      "Preciznost: 0.09211649748600702\n"
     ]
    }
   ],
   "source": [
    "trigram_tagger = nltk.TrigramTagger(train_sents)\n",
    "\n",
    "#oznaci testni primjer\n",
    "tagged_sent = trigram_tagger.tag(test_sent)\n",
    "\n",
    "for token, tag in tagged_sent:\n",
    "    print(token, tag)\n",
    "\n",
    "print(f\"Preciznost: {trigram_tagger.accuracy(test_sents)}\")"
   ]
  },
  {
   "cell_type": "markdown",
   "metadata": {},
   "source": [
    "Problem: Preciznost se smanjuje zbog nedostatka zagladivanja"
   ]
  },
  {
   "cell_type": "code",
   "execution_count": 50,
   "metadata": {},
   "outputs": [
    {
     "name": "stdout",
     "output_type": "stream",
     "text": [
      "Preciznost: 0.9422255952945641\n"
     ]
    }
   ],
   "source": [
    "#Pokusajmo kombinirati vise oznacavanja\n",
    "\n",
    "t0 = regexp_tagger\n",
    "t1 = nltk.UnigramTagger(train_sents, backoff = t0)\n",
    "t2 = nltk.BigramTagger(train_sents, backoff = t1)\n",
    "t3 = nltk.TrigramTagger(train_sents, backoff = t2)\n",
    "\n",
    "print(f\"Preciznost: {t3.accuracy(test_sents)}\")"
   ]
  },
  {
   "cell_type": "code",
   "execution_count": 52,
   "metadata": {},
   "outputs": [
    {
     "name": "stdout",
     "output_type": "stream",
     "text": [
      "     |              C     N     P     V |\n",
      "     |     A  A  A  O  D  O  N  R  P  E |\n",
      "     |     D  D  D  N  E  U  U  O  R  R |\n",
      "     |  .  J  P  V  J  T  N  M  N  T  B |\n",
      "-----+----------------------------------+\n",
      "   . |<38> .  .  .  .  .  .  .  .  .  . |\n",
      " ADJ |  .<19> .  .  .  .  .  .  .  .  . |\n",
      " ADP |  .  .<30> .  .  .  .  .  .  2  . |\n",
      " ADV |  .  .  . <6> .  .  .  .  .  .  . |\n",
      "CONJ |  .  .  .  .<10> .  .  .  .  .  . |\n",
      " DET |  .  .  .  .  .<39> .  .  .  .  . |\n",
      "NOUN |  .  .  .  .  .  .<81> .  .  .  . |\n",
      " NUM |  .  .  .  .  .  .  . <1> .  .  . |\n",
      "PRON |  .  .  .  .  .  .  .  . <6> .  . |\n",
      " PRT |  .  .  .  .  .  .  .  .  . <3> . |\n",
      "VERB |  .  .  .  .  .  .  .  .  .  .<49>|\n",
      "-----+----------------------------------+\n",
      "(row = reference; col = test)\n",
      "\n"
     ]
    }
   ],
   "source": [
    "# matrica zbunjenosti\n",
    "# predvidjene oznake\n",
    "test_tags = [tag for sent in brown.sents(categories = \"news\")[:10] for (word, tag) in t3.tag(sent)]\n",
    "\n",
    "#prave oznake\n",
    "gold_tags = [tag for sent in brown.tagged_sents(categories = \"news\", tagset=\"universal\")[:10] for (word, tag) in sent]\n",
    "\n",
    "#Confusion matrix\n",
    "cm = nltk.ConfusionMatrix(gold_tags, test_tags)\n",
    "\n",
    "print(cm)"
   ]
  }
 ],
 "metadata": {
  "kernelspec": {
   "display_name": "Python 3 (ipykernel)",
   "language": "python",
   "name": "python3"
  },
  "language_info": {
   "codemirror_mode": {
    "name": "ipython",
    "version": 3
   },
   "file_extension": ".py",
   "mimetype": "text/x-python",
   "name": "python",
   "nbconvert_exporter": "python",
   "pygments_lexer": "ipython3",
   "version": "3.8.16"
  }
 },
 "nbformat": 4,
 "nbformat_minor": 4
}
